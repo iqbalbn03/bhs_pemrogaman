{
 "cells": [
  {
   "cell_type": "markdown",
   "metadata": {},
   "source": [
    "# PERT 3 "
   ]
  },
  {
   "cell_type": "markdown",
   "metadata": {},
   "source": [
    "# - TIPE DATA"
   ]
  },
  {
   "cell_type": "markdown",
   "metadata": {},
   "source": [
    "contoh tipe data integer"
   ]
  },
  {
   "cell_type": "code",
   "execution_count": 1,
   "metadata": {},
   "outputs": [
    {
     "name": "stdout",
     "output_type": "stream",
     "text": [
      "<class 'int'>\n"
     ]
    }
   ],
   "source": [
    "a=1\n",
    "\n",
    "print(type(a))"
   ]
  },
  {
   "cell_type": "markdown",
   "metadata": {},
   "source": [
    "contoh tipe data string"
   ]
  },
  {
   "cell_type": "code",
   "execution_count": 2,
   "metadata": {},
   "outputs": [
    {
     "name": "stdout",
     "output_type": "stream",
     "text": [
      "<class 'str'>\n"
     ]
    }
   ],
   "source": [
    "a='Tes'\n",
    "\n",
    "print(type(a))"
   ]
  },
  {
   "cell_type": "code",
   "execution_count": 3,
   "metadata": {},
   "outputs": [
    {
     "name": "stdout",
     "output_type": "stream",
     "text": [
      "<class 'str'>\n"
     ]
    }
   ],
   "source": [
    "a=\"tes\"\n",
    "\n",
    "print(type(a))"
   ]
  },
  {
   "cell_type": "markdown",
   "metadata": {},
   "source": [
    "contoh tipe data float"
   ]
  },
  {
   "cell_type": "code",
   "execution_count": 4,
   "metadata": {},
   "outputs": [
    {
     "name": "stdout",
     "output_type": "stream",
     "text": [
      "<class 'float'>\n"
     ]
    }
   ],
   "source": [
    "a = 3.14\n",
    "\n",
    "print(type(a))"
   ]
  },
  {
   "cell_type": "markdown",
   "metadata": {},
   "source": [
    "contoh tipe data complex"
   ]
  },
  {
   "cell_type": "code",
   "execution_count": 5,
   "metadata": {},
   "outputs": [
    {
     "name": "stdout",
     "output_type": "stream",
     "text": [
      "<class 'complex'>\n"
     ]
    }
   ],
   "source": [
    "a = 1j\n",
    "\n",
    "print(type(a))"
   ]
  },
  {
   "cell_type": "markdown",
   "metadata": {},
   "source": [
    "Jelaskan maksud dari penerapan variabel terkait tipe data int"
   ]
  },
  {
   "cell_type": "code",
   "execution_count": 7,
   "metadata": {},
   "outputs": [
    {
     "name": "stdout",
     "output_type": "stream",
     "text": [
      "2\n",
      "2\n"
     ]
    }
   ],
   "source": [
    "a = 2\n",
    "b = int(2)\n",
    "\n",
    "print(a)\n",
    "print(b)"
   ]
  },
  {
   "cell_type": "markdown",
   "metadata": {},
   "source": [
    "- untuk point pertama komputer otomatis menerjemahkan bahwa variabel a bertipe data int\n",
    "\n",
    "- sedangkan untuk point kedua kita secara khusus menyatakan kepada komputer bahwa b memiliki tipe data int"
   ]
  },
  {
   "cell_type": "code",
   "execution_count": 13,
   "metadata": {},
   "outputs": [
    {
     "name": "stdout",
     "output_type": "stream",
     "text": [
      "1 - Hari.senin\n",
      "2 - Hari.selasa\n",
      "3 - Hari.rabu\n",
      "4 - Hari.kamis\n",
      "5 - Hari.jumat\n",
      "6 - Hari.sabtu\n",
      "7 - Hari.minggu\n"
     ]
    }
   ],
   "source": [
    "from enum import Enum\n",
    "\n",
    "class Hari(Enum):\n",
    "    senin = 1\n",
    "    selasa = 2\n",
    "    rabu = 3\n",
    "    kamis = 4\n",
    "    jumat = 5\n",
    "    sabtu = 6\n",
    "    minggu = 7\n",
    "\n",
    "for Hari in (Hari):\n",
    "    print(Hari.value, \"-\", Hari)"
   ]
  },
  {
   "cell_type": "code",
   "execution_count": 23,
   "metadata": {},
   "outputs": [
    {
     "name": "stdout",
     "output_type": "stream",
     "text": [
      "senin\n",
      "1\n",
      "selasa\n",
      "2\n",
      "rabu\n",
      "3\n",
      "kamis\n",
      "4\n",
      "jumat\n",
      "5\n",
      "sabtu\n",
      "6\n",
      "minggu\n",
      "7\n"
     ]
    }
   ],
   "source": [
    "from enum import Enum\n",
    "\n",
    "class Hari(Enum):\n",
    "    senin = 1\n",
    "    selasa = 2\n",
    "    rabu = 3\n",
    "    kamis = 4\n",
    "    jumat = 5\n",
    "    sabtu = 6\n",
    "    minggu = 7\n",
    "\n",
    "for Hari in Hari:\n",
    "    print(Hari.name)\n",
    "    print(Hari.value)"
   ]
  },
  {
   "cell_type": "markdown",
   "metadata": {},
   "source": [
    "# OPERATOR"
   ]
  },
  {
   "cell_type": "markdown",
   "metadata": {},
   "source": []
  }
 ],
 "metadata": {
  "kernelspec": {
   "display_name": "Python 3",
   "language": "python",
   "name": "python3"
  },
  "language_info": {
   "codemirror_mode": {
    "name": "ipython",
    "version": 3
   },
   "file_extension": ".py",
   "mimetype": "text/x-python",
   "name": "python",
   "nbconvert_exporter": "python",
   "pygments_lexer": "ipython3",
   "version": "3.10.12"
  }
 },
 "nbformat": 4,
 "nbformat_minor": 2
}
