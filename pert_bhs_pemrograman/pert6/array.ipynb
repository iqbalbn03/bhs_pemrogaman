{
 "cells": [
  {
   "cell_type": "markdown",
   "metadata": {},
   "source": [
    "apa itu array?"
   ]
  },
  {
   "cell_type": "markdown",
   "metadata": {},
   "source": [
    "array merupakan suatu kumpulan"
   ]
  },
  {
   "cell_type": "code",
   "execution_count": 16,
   "metadata": {},
   "outputs": [
    {
     "name": "stdout",
     "output_type": "stream",
     "text": [
      "['mouse', [1, 2, 3], ['a']]\n",
      "1\n",
      "a\n"
     ]
    }
   ],
   "source": [
    "#nested list\n",
    "\n",
    "my_list = [\"mouse\", [1,2,3],['a']]\n",
    "print(my_list)\n",
    "print(my_list [1][0])\n",
    "print(my_list[2][0])\n"
   ]
  },
  {
   "cell_type": "code",
   "execution_count": 17,
   "metadata": {},
   "outputs": [
    {
     "name": "stdout",
     "output_type": "stream",
     "text": [
      "[1, 'hello', 3.4]\n"
     ]
    }
   ],
   "source": [
    "#list mixed type data\n",
    "\n",
    "my_list = [1, \"hello\", 3.4]\n",
    "print(my_list)"
   ]
  },
  {
   "cell_type": "code",
   "execution_count": 18,
   "metadata": {},
   "outputs": [
    {
     "name": "stdout",
     "output_type": "stream",
     "text": [
      "[1, 2, 3]\n"
     ]
    }
   ],
   "source": [
    "#list int\n",
    "my_list = [1,2,3]\n",
    "print (my_list)"
   ]
  },
  {
   "cell_type": "code",
   "execution_count": 19,
   "metadata": {},
   "outputs": [
    {
     "name": "stdout",
     "output_type": "stream",
     "text": [
      "[]\n"
     ]
    }
   ],
   "source": [
    "#empty list\n",
    "my_list = [ ]\n",
    "print (my_list)"
   ]
  }
 ],
 "metadata": {
  "kernelspec": {
   "display_name": "Python 3",
   "language": "python",
   "name": "python3"
  },
  "language_info": {
   "codemirror_mode": {
    "name": "ipython",
    "version": 3
   },
   "file_extension": ".py",
   "mimetype": "text/x-python",
   "name": "python",
   "nbconvert_exporter": "python",
   "pygments_lexer": "ipython3",
   "version": "3.10.12"
  }
 },
 "nbformat": 4,
 "nbformat_minor": 2
}
