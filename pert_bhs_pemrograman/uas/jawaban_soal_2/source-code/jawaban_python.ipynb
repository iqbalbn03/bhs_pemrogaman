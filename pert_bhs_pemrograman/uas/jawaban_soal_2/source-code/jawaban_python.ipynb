{
 "cells": [
  {
   "cell_type": "markdown",
   "metadata": {},
   "source": [
    "Dalam contoh codingan nya:\n",
    "\n",
    "try: Blok kode yang mungkin menghasilkan kesalahan ditempatkan di sini.\n",
    "\n",
    "except: Blok kode yang menangani kesalahan jika terjadi.\n",
    "\n",
    "finally: Blok kode yang akan selalu dijalankan, baik terjadi kesalahan atau tidak.\n",
    "\n",
    "Exception handling adalah fitur penting dalam pemrograman yang membantu mengelola kesalahan secara efisien dan menjaga stabilitas aplikasi."
   ]
  }
 ],
 "metadata": {
  "language_info": {
   "name": "python"
  }
 },
 "nbformat": 4,
 "nbformat_minor": 2
}
